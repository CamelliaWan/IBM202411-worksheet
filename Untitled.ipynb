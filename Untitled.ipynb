{
 "cells": [
  {
   "cell_type": "markdown",
   "id": "e6a2536e-993f-42a9-b91f-f43ab5821ac7",
   "metadata": {},
   "source": [
    "# Final Project: Data Science Tools and Examples"
   ]
  },
  {
   "cell_type": "markdown",
   "id": "c445d460-4e10-455e-a84e-de22c235232c",
   "metadata": {},
   "source": [
    "## Introduction\n",
    "This notebook is part of the final project for the course. It demonstrates the use of Markdown and code cells in Jupyterlite Notebook, covering topics such as data science languages, libraries, tools, and basic arithmetic operations."
   ]
  },
  {
   "cell_type": "markdown",
   "id": "5b1a3f71-f626-4663-8da4-c30f04a5041e",
   "metadata": {},
   "source": [
    "## Data Science Languages\n",
    "Some commonly used programming languages in data science are:\n",
    "- Python\n",
    "- R\n",
    "- SQL\n",
    "- Julia\n",
    "- Scala"
   ]
  },
  {
   "cell_type": "markdown",
   "id": "ce125105-a0f3-4920-a556-1eeaf8ab005d",
   "metadata": {},
   "source": [
    "## Data Science Libraries\n",
    "Popular libraries used in data science include:\n",
    "- Pandas\n",
    "- NumPy\n",
    "- Matplotlib\n",
    "- Scikit-learn\n",
    "- TensorFlow\n",
    "- Keras"
   ]
  },
  {
   "cell_type": "markdown",
   "id": "6c50d09e-f527-4d74-99d6-25b533302a8a",
   "metadata": {},
   "source": [
    "## Data Science Tools\n",
    "| Tool            | Description                             |\n",
    "|------------------|-----------------------------------------|\n",
    "| Jupyter Notebook | Interactive environment for analysis   |\n",
    "| RStudio          | IDE for R programming                  |\n",
    "| Apache Spark     | Big data processing     "
   ]
  },
  {
   "cell_type": "markdown",
   "id": "f75e9837-b78b-41b0-80f3-bda359c7df77",
   "metadata": {},
   "source": [
    "## Arithmetic Expression Examples\n",
    "Arithmetic expressions are used for performing calculations, such as addition, subtraction, multiplication, and division."
   ]
  },
  {
   "cell_type": "code",
   "execution_count": 9,
   "id": "1d999109-5936-452a-a4ee-50de83993934",
   "metadata": {},
   "outputs": [
    {
     "name": "stdout",
     "output_type": "stream",
     "text": [
      "The result is: 111\n"
     ]
    }
   ],
   "source": [
    "# Multiplication and Addition Example\n",
    "result = (8 * 12) + 15\n",
    "print(\"The result is:\", result)"
   ]
  },
  {
   "cell_type": "code",
   "execution_count": 11,
   "id": "96b5d3fc-eb46-4644-8ce2-7d0dcaf21a9a",
   "metadata": {},
   "outputs": [
    {
     "name": "stdout",
     "output_type": "stream",
     "text": [
      "135 minutes is equal to 2.25 hours\n"
     ]
    }
   ],
   "source": [
    "# Convert minutes to hours\n",
    "minutes = 135\n",
    "hours = minutes / 60\n",
    "print(f\"{minutes} minutes is equal to {hours:.2f} hours\")\n"
   ]
  },
  {
   "cell_type": "markdown",
   "id": "1c15cb24-e03a-41fe-932e-80b57e466e8c",
   "metadata": {},
   "source": [
    "## Objectives\n",
    "The objectives of this notebook are:\n",
    "- Demonstrate Markdown cell formatting.\n",
    "- List common data science languages, libraries, and tools.\n",
    "- Use Python code to perform basic arithmetic operations.\n"
   ]
  },
  {
   "cell_type": "markdown",
   "id": "7d1878bc-a7af-400f-9e61-1b3f90a59fc6",
   "metadata": {},
   "source": [
    "## Author\n",
    "Name: [Meiying Wan]\n"
   ]
  }
 ],
 "metadata": {
  "kernelspec": {
   "display_name": "Python [conda env:base] *",
   "language": "python",
   "name": "conda-base-py"
  },
  "language_info": {
   "codemirror_mode": {
    "name": "ipython",
    "version": 3
   },
   "file_extension": ".py",
   "mimetype": "text/x-python",
   "name": "python",
   "nbconvert_exporter": "python",
   "pygments_lexer": "ipython3",
   "version": "3.12.7"
  }
 },
 "nbformat": 4,
 "nbformat_minor": 5
}
